{
 "metadata": {
  "name": "",
  "signature": "sha256:bb0a9945464546a2d787f4fe076d3bfc10c34fffea0a3330b183c6e775814f89"
 },
 "nbformat": 3,
 "nbformat_minor": 0,
 "worksheets": [
  {
   "cells": [
    {
     "cell_type": "heading",
     "level": 1,
     "metadata": {},
     "source": [
      "Send email"
     ]
    },
    {
     "cell_type": "code",
     "collapsed": false,
     "input": [
      "with open(\"erty.txt\", \"w\") as f : f.write(\"try.try.try\")"
     ],
     "language": "python",
     "metadata": {},
     "outputs": [],
     "prompt_number": 1
    },
    {
     "cell_type": "code",
     "collapsed": false,
     "input": [
      "import pymmails"
     ],
     "language": "python",
     "metadata": {},
     "outputs": [],
     "prompt_number": 1
    },
    {
     "cell_type": "code",
     "collapsed": false,
     "input": [
      "server = pymmails.create_smtp_server(\"gmail\", \"xavier.somebody@gmail.com\", \"pwd\")"
     ],
     "language": "python",
     "metadata": {},
     "outputs": [],
     "prompt_number": 2
    },
    {
     "cell_type": "markdown",
     "metadata": {},
     "source": [
      "In fonction create_smtp_server, the string ``gmail`` is replaced by ``smtp.gmail.com:567`` (tls version). By default, the server cannot be accessed unless IMAP is enabled (see [Problems sending mail with POP or IMAP](https://support.google.com/mail/answer/78775)). You can usually find this string by searching on internet for ``your provider smtp server``, you find pages such as [configuration des serveurs sortants et entrants des principaux comptes mails](http://assistance.orange.fr/configuration-des-serveurs-sortants-et-entrants-des-principaux-comptes-mails-1222.php). However, by doing this, you need to send your password. You should remove your password wherever it appears as soon as you don't need it anymore. If you forget, I advise you to change it."
     ]
    },
    {
     "cell_type": "code",
     "collapsed": false,
     "input": [
      "pymmails.send_email(server, \"xavier.somebody@gmail.com\", \"xavier.somebodyelse@else.com\",\n",
      "                \"results\", \"body\", attachements = [ \"erty.txt\" ])"
     ],
     "language": "python",
     "metadata": {},
     "outputs": [],
     "prompt_number": 4
    },
    {
     "cell_type": "code",
     "collapsed": false,
     "input": [
      "server.quit()"
     ],
     "language": "python",
     "metadata": {},
     "outputs": [
      {
       "metadata": {},
       "output_type": "pyout",
       "prompt_number": 5,
       "text": [
        "(221, b'2.0.0 closing connection e18sm17176289wjz.27 - gsmtp')"
       ]
      }
     ],
     "prompt_number": 5
    },
    {
     "cell_type": "code",
     "collapsed": false,
     "input": [],
     "language": "python",
     "metadata": {},
     "outputs": []
    }
   ],
   "metadata": {}
  }
 ]
}