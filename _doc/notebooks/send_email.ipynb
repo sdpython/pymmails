{
 "cells": [
  {
   "cell_type": "markdown",
   "metadata": {},
   "source": [
    "# Send email"
   ]
  },
  {
   "cell_type": "code",
   "execution_count": 1,
   "metadata": {
    "collapsed": false
   },
   "outputs": [],
   "source": [
    "with open(\"erty.txt\", \"w\") as f : f.write(\"try.try.try\")"
   ]
  },
  {
   "cell_type": "code",
   "execution_count": 1,
   "metadata": {
    "collapsed": false
   },
   "outputs": [],
   "source": [
    "import pymmails"
   ]
  },
  {
   "cell_type": "code",
   "execution_count": 2,
   "metadata": {
    "collapsed": false
   },
   "outputs": [],
   "source": [
    "server = pymmails.create_smtp_server(\"gmail\", \"xavier.somebody@gmail.com\", \"pwd\")"
   ]
  },
  {
   "cell_type": "markdown",
   "metadata": {},
   "source": [
    "In fonction create_smtp_server, the string ``gmail`` is replaced by ``smtp.gmail.com:567`` (tls version). By default, the server cannot be accessed unless IMAP is enabled (see [Problems sending mail with POP or IMAP](https://support.google.com/mail/answer/78775)). You can usually find this string by searching on internet for ``your provider smtp server``, you find pages such as [configuration des serveurs sortants et entrants des principaux comptes mails](http://assistance.orange.fr/configuration-des-serveurs-sortants-et-entrants-des-principaux-comptes-mails-1222.php). However, by doing this, you need to send your password. You should remove your password wherever it appears as soon as you don't need it anymore. If you forget, I advise you to change it."
   ]
  },
  {
   "cell_type": "code",
   "execution_count": 4,
   "metadata": {
    "collapsed": false
   },
   "outputs": [],
   "source": [
    "pymmails.send_email(server, \"xavier.somebody@gmail.com\", \"xavier.somebodyelse@else.com\",\n",
    "                \"results\", \"body\", attachements = [ \"erty.txt\" ])"
   ]
  },
  {
   "cell_type": "code",
   "execution_count": 5,
   "metadata": {
    "collapsed": false
   },
   "outputs": [
    {
     "data": {
      "text/plain": [
       "(221, b'2.0.0 closing connection e18sm17176289wjz.27 - gsmtp')"
      ]
     },
     "execution_count": 5,
     "metadata": {},
     "output_type": "execute_result"
    }
   ],
   "source": [
    "server.quit()"
   ]
  },
  {
   "cell_type": "code",
   "execution_count": null,
   "metadata": {
    "collapsed": false
   },
   "outputs": [],
   "source": []
  }
 ],
 "metadata": {},
 "nbformat": 4,
 "nbformat_minor": 0
}